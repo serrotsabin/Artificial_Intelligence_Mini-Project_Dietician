{
 "cells": [
  {
   "cell_type": "code",
   "execution_count": 1,
   "metadata": {},
   "outputs": [
    {
     "data": {
      "text/plain": [
       "LinearRegression(copy_X=True, fit_intercept=True, n_jobs=None,\n",
       "         normalize=False)"
      ]
     },
     "execution_count": 1,
     "metadata": {},
     "output_type": "execute_result"
    }
   ],
   "source": [
    "import pandas as pd\n",
    "import numpy as np\n",
    "from sklearn import linear_model\n",
    "df = pd.read_csv(\"a.csv\")\n",
    "female = df[df.gender == 'F']\n",
    "male = df[df.gender== 'M']\n",
    "from sklearn.preprocessing import PolynomialFeatures\n",
    "polyreg=PolynomialFeatures(degree=3)\n",
    "X_male = male.iloc[:,0:1].values\n",
    "X_female = female.iloc[:,0:1].values\n",
    "Xmale_poly = polyreg.fit_transform(X_male)\n",
    "Xfemale_poly = polyreg.fit_transform(X_female)\n",
    "linearregmale=linear_model.LinearRegression()\n",
    "linearregfemale=linear_model.LinearRegression()\n",
    "\n",
    "linearregmale.fit(Xmale_poly,male.calorie)\n",
    "\n",
    "linearregfemale.fit(Xfemale_poly,female.calorie)"
   ]
  },
  {
   "cell_type": "code",
   "execution_count": 2,
   "metadata": {},
   "outputs": [
    {
     "name": "stdout",
     "output_type": "stream",
     "text": [
      "Your Age 22\n",
      "Height in feet 5.3\n",
      "Weight in kgs 69\n",
      "Calorie Required is  2734.68754151\n",
      "Body Mass Index is  26.440363786150623\n",
      "You are Over Weight\n",
      "So after bmi calculation Calorie Required is  2234.68754151\n"
     ]
    }
   ],
   "source": [
    "i = int(input(\"Your Age \"))\n",
    "c = ([i],)\n",
    "c = polyreg.fit_transform(c)\n",
    "height = float(input(\"Height in feet \"))\n",
    "weight = float(input(\"Weight in kgs \"))\n",
    "h_value = (height*12*0.0254)\n",
    "h_value = h_value*h_value\n",
    "bmi = weight/h_value\n",
    "out = linearregmale.predict(c)\n",
    "print('Calorie Required is ',out[0])\n",
    "print('Body Mass Index is ',bmi)\n",
    "\n",
    "if bmi<18.5:\n",
    "    print('You are Underweight')\n",
    "    req_cal = out[0]+200\n",
    "elif bmi>18.5 and bmi<24.9:\n",
    "        print('You are Normal Weight')\n",
    "        req_cal = out[0]\n",
    "elif bmi>=25 and bmi<29.9:\n",
    "        print('You are Over Weight')\n",
    "        req_cal = out[0]-500\n",
    "else:\n",
    "    print ('Obesity')\n",
    "    req_cal = out[0]-1000\n",
    "print('So after bmi calculation Calorie Required is ',req_cal)"
   ]
  },
  {
   "cell_type": "code",
   "execution_count": null,
   "metadata": {},
   "outputs": [],
   "source": []
  }
 ],
 "metadata": {
  "kernelspec": {
   "display_name": "Python 3",
   "language": "python",
   "name": "python3"
  },
  "language_info": {
   "codemirror_mode": {
    "name": "ipython",
    "version": 3
   },
   "file_extension": ".py",
   "mimetype": "text/x-python",
   "name": "python",
   "nbconvert_exporter": "python",
   "pygments_lexer": "ipython3",
   "version": "3.6.8"
  }
 },
 "nbformat": 4,
 "nbformat_minor": 2
}
